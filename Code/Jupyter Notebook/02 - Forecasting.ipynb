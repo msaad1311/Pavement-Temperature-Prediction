{
 "cells": [
  {
   "cell_type": "markdown",
   "metadata": {},
   "source": [
    "# Libraries"
   ]
  },
  {
   "cell_type": "code",
   "execution_count": 1,
   "metadata": {},
   "outputs": [
    {
     "name": "stdout",
     "output_type": "stream",
     "text": [
      "Libraries Loaded\n"
     ]
    }
   ],
   "source": [
    "import pandas as pd\n",
    "import numpy as np\n",
    "import matplotlib.pyplot as plt\n",
    "import os\n",
    "import xlwt \n",
    "from xlwt import Workbook \n",
    "from prettytable import PrettyTable\n",
    "\n",
    "from sklearn.model_selection import train_test_split\n",
    "from sklearn.preprocessing import MinMaxScaler\n",
    "from sklearn.metrics import mean_squared_error as mse\n",
    "\n",
    "import tensorflow as tf\n",
    "# physical_devices = tf.config.list_physical_devices('GPU')\n",
    "# tf.config.experimental.set_memory_growth(physical_devices[0], enable=True)\n",
    "from tensorflow import keras\n",
    "from tensorflow.keras.layers import *\n",
    "import tensorflow.keras.backend as K\n",
    "\n",
    "print('Libraries Loaded')"
   ]
  },
  {
   "cell_type": "markdown",
   "metadata": {},
   "source": [
    "# Utilities"
   ]
  },
  {
   "cell_type": "code",
   "execution_count": 77,
   "metadata": {},
   "outputs": [],
   "source": [
    "def read_file(path):\n",
    "    '''\n",
    "    Returns the dataframe which is read from the excel file present in the path specified. \n",
    "    \n",
    "    Parameters:\n",
    "        path (str) : The path of the file\n",
    "    \n",
    "    Returns:\n",
    "        df (float) : The dataframe which is created after reading the file.\n",
    "    '''\n",
    "    df= pd.read_excel(path)\n",
    "    df = df.loc[:, ~df.columns.str.contains('^Unnamed')]\n",
    "    print(df.shape)\n",
    "    print(df.head())\n",
    "    return df\n",
    "\n",
    "def create_dataset(X, y, time_steps, ts_range):\n",
    "    '''\n",
    "    Returns the prepared data based on the lag and look ahead\n",
    "    \n",
    "    Parameters:\n",
    "        X          (float): The independent variables of the data\n",
    "        y          (float): The dependent variables of the data\n",
    "        time_steps (int)  : The lag that is being used to lookback\n",
    "        ts_range   (int)  : The lookahead for the data\n",
    "    \n",
    "    Returns:\n",
    "        Xs (float) : The numpy array of the input variable\n",
    "        ys (float) : The numpy array of the output variable \n",
    "    '''\n",
    "    Xs, ys = [], []\n",
    "    for i in range(len(X) - time_steps - ts_range):\n",
    "        v = X.iloc[i:(i + time_steps)].values\n",
    "        Xs.append(v)\n",
    "        ys.append(y.values[(i + time_steps):(i + time_steps + ts_range),0])\n",
    "    return np.array(Xs), np.array(ys)\n",
    "\n",
    "def splitter(df,output,lag,duration,ts):\n",
    "    '''\n",
    "    Returns the training and testing data\n",
    "    \n",
    "    Parameters:\n",
    "        df (float): The whole dataframe containing the independent and dependent variables\n",
    "        output(str): The output variable \n",
    "        lag (int): The lag that needs to be applied for the data\n",
    "        duration (int): The duration that is being considered as output\n",
    "        ts (float): The percentage of training data\n",
    "    \n",
    "    Returns:\n",
    "        x_train (float): The training data of independent variable \n",
    "        x_test (float): The testing data of independent variable\n",
    "        y_train (float): The training data of the depenedent variable \n",
    "        y_test (float): The testing data of the dependent variable \n",
    "    '''\n",
    "    assert (0. <= ts <= 1.)\n",
    "    train_size = int(len(df) * ts)\n",
    "    test_size = len(df) - train_size\n",
    "    train, test = df.iloc[0:train_size], df[train_size:]\n",
    "    print(train.shape, test.shape)\n",
    "    scaler,scaler_single = MinMaxScaler(feature_range=(0, 1)),MinMaxScaler(feature_range=(0, 1))\n",
    "\n",
    "    scaler.fit(train)\n",
    "    scaler_single.fit(train[output])\n",
    "\n",
    "    train_scaled = pd.DataFrame(scaler.transform(train), columns=[df.columns])\n",
    "    test_scaled = pd.DataFrame(scaler.transform(test), columns=[df.columns])\n",
    "\n",
    "    df_train = train_scaled.copy(deep=True)\n",
    "    df_test = test_scaled.copy(deep=True)\n",
    "\n",
    "    x_train,y_train = create_dataset(df_train,df_train[[output]],lag,duration)\n",
    "    x_test, y_test = create_dataset(df_test, df_test[[output]], lag, duration)\n",
    "\n",
    "    return x_train,x_test,y_train,y_test,scaler_single\n",
    "\n",
    "class attention(keras.layers.Layer):\n",
    "    '''\n",
    "    Attention layer for the neural networks.\n",
    "    \n",
    "    if return_sequences=True, it will give 3D vector and if false it will give 2D vector. It is same as LSTMs.\n",
    "\n",
    "    https://stackoverflow.com/questions/62948332/how-to-add-attention-layer-to-a-bi-lstm/62949137#62949137\n",
    "    the  following code is being inspired from the above link.\n",
    "    '''\n",
    "\n",
    "    def __init__(self, return_sequences=True, **kwargs):\n",
    "        self.return_sequences = return_sequences\n",
    "        super(attention, self).__init__()\n",
    "\n",
    "    def get_config(self):\n",
    "        cfg = super().get_config()\n",
    "        return cfg\n",
    "\n",
    "    def build(self, input_shape):\n",
    "        self.W = self.add_weight(name=\"att_weight\", shape=(input_shape[-1], 1),\n",
    "                                 initializer=\"normal\")\n",
    "        self.b = self.add_weight(name=\"att_bias\", shape=(input_shape[1], 1),\n",
    "                                 initializer=\"zeros\")\n",
    "\n",
    "        super(attention, self).build(input_shape)\n",
    "\n",
    "    def call(self, x):\n",
    "        e = K.tanh(K.dot(x, self.W) + self.b)\n",
    "        a = K.softmax(e, axis=1)\n",
    "        output = x * a\n",
    "\n",
    "        if self.return_sequences:\n",
    "            return output\n",
    "\n",
    "        return K.sum(output, axis=1)\n",
    "\n",
    "def build_lstm(atten,inputs):\n",
    "    '''\n",
    "    Returns the LSTM model\n",
    "    \n",
    "    Parameters:\n",
    "        atten (bool): Indicate whether attention layer is required or not. \n",
    "        inputs (ndarry): The numpy array highlighting the shape of the input\n",
    "        \n",
    "    Returns:\n",
    "        model (obj): The model is being returned based on the parameters specified\n",
    "    '''\n",
    "    K.clear_session()\n",
    "    model = keras.Sequential()\n",
    "    model.add(keras.layers.LSTM(64, return_sequences=True, input_shape=(inputs.shape[1], inputs.shape[2])))\n",
    "    model.add(keras.layers.LSTM(64, return_sequences=True))\n",
    "    model.add(keras.layers.Dropout(0.3))\n",
    "    model.add(keras.layers.LSTM(64, return_sequences=True))\n",
    "    model.add(keras.layers.LSTM(64, return_sequences=True))\n",
    "    if atten:\n",
    "        model.add(attention(return_sequences=True))\n",
    "    model.add(keras.layers.Flatten())\n",
    "    model.add(keras.layers.Dense(512, activation='relu'))\n",
    "    model.add(keras.layers.Dense(128, activation='relu'))\n",
    "    model.add(keras.layers.Dense(64, activation='relu'))\n",
    "    model.add(keras.layers.Dropout(0.3))\n",
    "    model.add(keras.layers.Dense(32))\n",
    "    model.add(keras.layers.Dense(6))\n",
    "\n",
    "    return model\n",
    "\n",
    "def build_cnnlstm(atten,inputs):\n",
    "    '''\n",
    "    Returns the CNN-LSTM model\n",
    "    \n",
    "    Parameters:\n",
    "        atten (bool): Indicate whether attention layer is required or not. \n",
    "        inputs (ndarry): The numpy array highlighting the shape of the input\n",
    "        \n",
    "    Returns:\n",
    "        model (obj): The model is being returned based on the parameters specified\n",
    "    '''\n",
    "    K.clear_session()\n",
    "    model = keras.Sequential()\n",
    "    model.add(keras.layers.Conv1D(64, kernel_size=3, input_shape=(inputs.shape[1],inputs.shape[2])))\n",
    "    model.add(keras.layers.Conv1D(64, kernel_size=3))\n",
    "    model.add(keras.layers.LSTM(64, return_sequences=True))\n",
    "    model.add(keras.layers.LSTM(64, return_sequences=True))\n",
    "    if atten:\n",
    "        model.add(attention(return_sequences=True))\n",
    "    model.add(keras.layers.Flatten())\n",
    "    model.add(keras.layers.Dense(512, activation='relu'))\n",
    "    model.add(keras.layers.Dense(128, activation='relu'))\n",
    "    model.add(keras.layers.Dense(64, activation='relu'))\n",
    "    model.add(keras.layers.Dense(32))\n",
    "    model.add(keras.layers.Dense(6))\n",
    "\n",
    "    return model\n",
    "\n",
    "def build_convlstm(atten,inputs):\n",
    "    '''\n",
    "    Returns the ConvLSTM model\n",
    "    \n",
    "    Parameters:\n",
    "        atten (bool): Indicate whether attention layer is required or not. \n",
    "        inputs (ndarry): The numpy array highlighting the shape of the input\n",
    "        \n",
    "    Returns:\n",
    "        model (obj): The model is being returned based on the parameters specified\n",
    "    '''\n",
    "    K.clear_session()\n",
    "    model = keras.Sequential()\n",
    "    model.add(keras.layers.ConvLSTM2D(64, kernel_size=(1,2),return_sequences=True, \n",
    "                                      input_shape=(inputs.shape[1], inputs.shape[2], \n",
    "                                                   inputs.shape[3], inputs.shape[4])))\n",
    "    model.add(keras.layers.ConvLSTM2D(64, kernel_size=(1,2),return_sequences=True))\n",
    "    model.add(keras.layers.ConvLSTM2D(64, kernel_size=(1,2),return_sequences=True))\n",
    "    model.add(keras.layers.ConvLSTM2D(64, kernel_size=(1,2),return_sequences=True))\n",
    "    if atten:\n",
    "        model.add(attention(return_sequences=True))\n",
    "    model.add(keras.layers.Flatten())\n",
    "    model.add(keras.layers.Dense(512, activation='relu'))\n",
    "    model.add(keras.layers.Dense(128, activation='relu'))\n",
    "    model.add(keras.layers.Dense(64, activation='relu'))\n",
    "    model.add(keras.layers.Dense(32))\n",
    "    model.add(keras.layers.Dense(6))\n",
    "\n",
    "    return model\n",
    "\n",
    "def build_seq2seq(atten,inputs):\n",
    "    '''\n",
    "    Returns the Seq2Seq model\n",
    "    \n",
    "    Parameters:\n",
    "        atten (bool): Indicate whether attention layer is required or not. \n",
    "        inputs (ndarry): The numpy array highlighting the shape of the input\n",
    "        \n",
    "    Returns:\n",
    "        model (obj): The model is being returned based on the parameters specified\n",
    "    '''\n",
    "    if atten: \n",
    "        K.clear_session()\n",
    "        input_train = keras.layers.Input(shape=(inputs[1], inputs[2]))\n",
    "        output_train = keras.layers.Input(shape=(inputs[4], inputs[5]))\n",
    "        ###----------------------------------------Encoder Section------------------------------------------###\n",
    "        encoder_first = keras.layers.LSTM(128, return_sequences=True, return_state=False)(input_train)\n",
    "        encoder_second = keras.layers.LSTM(128, return_sequences=True)(encoder_first)\n",
    "        encoder_third = keras.layers.LSTM(128, return_sequences=True)(encoder_second)\n",
    "        encoder_fourth, encoder_fourth_s1, encoder_fourth_s2 = keras.layers.LSTM(128,return_sequences=True,return_state=True)(encoder_third)\n",
    "\n",
    "        ###-----------------------------------------Decoder Section------------------------------------------###\n",
    "        decoder_first = keras.layers.RepeatVector(output_train.shape[1])(encoder_fourth_s1)\n",
    "        decoder_second = keras.layers.LSTM(128, return_state=False, return_sequences=True)(decoder_first, initial_state=[encoder_fourth_s1, encoder_fourth_s2])\n",
    "\n",
    "        attention = keras.layers.dot([decoder_second, encoder_fourth], axes=[2, 2])\n",
    "        attention = keras.layers.Activation('softmax')(attention)\n",
    "        context = keras.layers.dot([attention, encoder_fourth], axes=[2, 1])\n",
    "\n",
    "        decoder_third = keras.layers.concatenate([context, decoder_second])\n",
    "\n",
    "        decoder_fourth = keras.layers.LSTM(128, return_sequences=True)(decoder_third)\n",
    "        decoder_fifth = keras.layers.LSTM(128, return_sequences=True)(decoder_fourth)\n",
    "        decoder_sixth = keras.layers.LSTM(128, return_sequences=True)(decoder_fifth)\n",
    "\n",
    "        ###-----------------------------------------Output Section-----------------------------------------###\n",
    "        output = keras.layers.TimeDistributed(keras.layers.Dense(output_train.shape[2]))(decoder_sixth)\n",
    "\n",
    "        atten_seq = keras.Model(inputs=input_train, outputs=output)\n",
    "\n",
    "        return atten_seq\n",
    "    else:\n",
    "\n",
    "        K.clear_session()\n",
    "        input_train = keras.layers.Input(shape=(inputs[1], inputs[2]))\n",
    "        output_train = keras.layers.Input(shape=(inputs[4], inputs[5]))\n",
    "\n",
    "        ### --------------------------------Encoder Section -------------------------------------------###\n",
    "        encoder_first = keras.layers.LSTM(128, return_sequences=True, return_state=False)(input_train)\n",
    "        encoder_second = keras.layers.LSTM(128, return_sequences=True)(encoder_first)\n",
    "        encoder_third = keras.layers.LSTM(128, return_sequences=True)(encoder_second)\n",
    "        encoder_fourth, encoder_fourth_s1, encoder_fourth_s2 = keras.layers.LSTM(128,return_sequences=False, return_state=True)(encoder_third)\n",
    "\n",
    "        ###---------------------------------Decorder Section-----------------------------------------------###\n",
    "        decoder_first = keras.layers.RepeatVector(output_train.shape[1])(encoder_fourth)\n",
    "        decoder_second = keras.layers.LSTM(128, return_state=False, return_sequences=True)(decoder_first,initial_state=[encoder_fourth,encoder_fourth_s2])\n",
    "        decoder_third = keras.layers.LSTM(128,return_sequences=True)(decoder_second)\n",
    "        decoder_fourth = keras.layers.LSTM(128,return_sequences=True)(decoder_third)\n",
    "        decoder_fifth = keras.layers.LSTM(128,return_sequences=True)(decoder_fourth)\n",
    "\n",
    "        ###--------------------------------Output Section-------------------------------------------------###\n",
    "        output = keras.layers.TimeDistributed(keras.layers.Dense(output_train.shape[2]))(decoder_fifth)\n",
    "\n",
    "        simple_seq = keras.Model(inputs=input_train, outputs=output)\n",
    "\n",
    "        return simple_seq\n",
    "    \n",
    "def build_wavenet(atten,inputs):\n",
    "    '''\n",
    "    Returns the WaveNet model\n",
    "    \n",
    "    Parameters:\n",
    "        atten (bool): Indicate whether attention layer is required or not. \n",
    "        inputs (ndarry): The numpy array highlighting the shape of the input\n",
    "        \n",
    "    Returns:\n",
    "        model (obj): The model is being returned based on the parameters specified\n",
    "    '''\n",
    "    n_filters = 128\n",
    "    filter_width = 2\n",
    "    dilation_rates = [2**i for i in range(7)]\n",
    "\n",
    "    inputs = keras.layers.Input(shape=(inputs.shape[1],inputs.shape[2]))\n",
    "    x=inputs\n",
    "\n",
    "    skips = []\n",
    "    for dilation_rate in dilation_rates:\n",
    "\n",
    "        x   = keras.layers.Conv1D(64, 1, padding='same')(x) \n",
    "        x_f = keras.layers.Conv1D(filters=n_filters,kernel_size=filter_width,padding='causal',dilation_rate=dilation_rate)(x)\n",
    "        x_g = keras.layers.Conv1D(filters=n_filters,kernel_size=filter_width, padding='causal',dilation_rate=dilation_rate)(x)\n",
    "\n",
    "        z = keras.layers.Multiply()([keras.layers.Activation('tanh')(x_f),keras.layers.Activation('sigmoid')(x_g)])\n",
    "\n",
    "        z = keras.layers.Conv1D(64, 1, padding='same', activation='relu')(z)\n",
    "\n",
    "        x = keras.layers.Add()([x, z])    \n",
    "\n",
    "        skips.append(z)\n",
    "\n",
    "    out = keras.layers.Activation('relu')(keras.layers.Add()(skips))\n",
    "    if atten:\n",
    "        out = attention(return_sequences=True)(out)\n",
    "    out = keras.layers.Conv1D(128, 1, padding='same')(out)\n",
    "    out = keras.layers.Activation('relu')(out)\n",
    "    out = keras.layers.Dropout(0.4)(out)\n",
    "    out = keras.layers.Conv1D(1, 1, padding='same')(out)\n",
    "\n",
    "    out = keras.layers.Flatten()(out)\n",
    "    out = keras.layers.Dense(6)(out)\n",
    "\n",
    "    model = keras.Model(inputs, out)\n",
    "    return model\n",
    "\n",
    "    \n",
    "        \n",
    "def model_fit(dire,model,x_train,x_test,y_train,y_test,scaler,split,batch_size,epochs,chkpt,weights,types):\n",
    "    '''\n",
    "    The function acts as an utility to fit the model on the data specified. \n",
    "    \n",
    "    Parameters:\n",
    "        dire (str): Specifies the directory in which the files are supposed to be saved\n",
    "        model (obj): The model which is supposed to fitted onto the data\n",
    "        x_train (ndarry): The input training array\n",
    "        x_test (ndarry): The input testing array\n",
    "        y_train (ndarry): The output training array\n",
    "        y_test (ndarry): The output testing array\n",
    "        scaler (obj): The scaler that is being used to scale the values\n",
    "        split (float): The validation split percentage\n",
    "        batch_size (int): The batch size that is supposed to be used for the training\n",
    "        epochs (int): The number of epochs for training\n",
    "        chkpt (obj): The callback for saving for the optimum weights\n",
    "        weights(str): The name of the optimum weights that are being saved\n",
    "        types(str): The type of model used, i.e. Attention or Simple\n",
    "        \n",
    "    Returns:\n",
    "        The function doesnt return anything, however, it saves the weight in the directory specified and also \n",
    "        saves the results in an excel file in the same directory.\n",
    "    '''\n",
    "    wk=Workbook()\n",
    "    sheet1 = wk.add_sheet(types, cell_overwrite_ok=True)\n",
    "    path_old = os.getcwd()\n",
    "    try:\n",
    "        os.chdir(os.path.join(dest,dire))\n",
    "        print('Directory present')\n",
    "    except FileNotFoundError:\n",
    "        print('Creating a new directory......')\n",
    "        os.chdir(os.path.join(dest))\n",
    "        os.mkdir(dire)\n",
    "        os.chdir(os.path.join(dest,dire))\n",
    "        print('New Directory Created')\n",
    "\n",
    "    history = model.fit(x_train,y_train,validation_split=split,batch_size=batch_size,epochs=epochs,callbacks=[chkpt])\n",
    "\n",
    "    plt.plot(history.history['loss'],'r',label='Training Loss')\n",
    "    plt.plot(history.history['val_loss'],'b',label='Validation Loss')\n",
    "    plt.title('Losses')\n",
    "    plt.xlabel('Epochs')\n",
    "    plt.ylabel('Loss')\n",
    "    plt.legend()\n",
    "    plt.show()\n",
    "\n",
    "    model.load_weights(weights)\n",
    "    preds = model.predict(x_test)\n",
    "\n",
    "    y_test_unscaled = scaler.inverse_transform(y_test)\n",
    "    if dire=='Seq2Seq':\n",
    "        preds = preds[:,:,0]\n",
    "    y_pred_unscaled = scaler.inverse_transform(preds)\n",
    "\n",
    "    e_mse = mse(y_test_unscaled[:,5],y_pred_unscaled[:,5])\n",
    "    print(f'The Mean Squared Error is: {e_mse}')\n",
    "\n",
    "    for i in range(y_test.shape[1]):\n",
    "            sheet1.write(0, 0, 'MSE')\n",
    "            sheet1.write(0, 1, 'Hours Ahead')\n",
    "            sheet1.write(i + 1, 0, mse(y_test_unscaled[:,i],y_pred_unscaled[:,i]))\n",
    "            sheet1.write(i + 1, 1, i+1)\n",
    "    wk.save(f'{types} Results.xls')\n",
    "    \n",
    "    os.chdir(path_old)\n",
    "            \n",
    "    return\n",
    "        "
   ]
  },
  {
   "cell_type": "markdown",
   "metadata": {},
   "source": [
    "# Data Preparation"
   ]
  },
  {
   "cell_type": "code",
   "execution_count": 3,
   "metadata": {},
   "outputs": [
    {
     "name": "stdout",
     "output_type": "stream",
     "text": [
      "(10896, 7)\n",
      "   Year  Month  Day  Hour  Temp  Solar  Pavement\n",
      "0  2009     11    1     1   8.4    0.0  9.333333\n",
      "1  2009     11    1     2   8.3    0.0  8.933333\n",
      "2  2009     11    1     3   7.9    0.0  8.700000\n",
      "3  2009     11    1     4   7.6    0.0  8.533333\n",
      "4  2009     11    1     5   6.9    0.0  8.533333\n"
     ]
    }
   ],
   "source": [
    "## Specifying the source path\n",
    "src = r'/Users/saad/Desktop/pavement/Data'\n",
    "filename = r'Pave_data_cleaned.xlsx'\n",
    "\n",
    "## Specifying the destination path\n",
    "dest = r'/Users/saad/Desktop/pavement/Results'\n",
    "\n",
    "## Reading the file\n",
    "df = read_file(os.path.join(src,filename))"
   ]
  },
  {
   "cell_type": "code",
   "execution_count": 4,
   "metadata": {},
   "outputs": [
    {
     "name": "stdout",
     "output_type": "stream",
     "text": [
      "(8716, 2) (2180, 2)\n",
      "The shape of x_train is (8704, 6, 2) and x_test is (2168, 6, 2)\n",
      "The shape of y_train is (8704, 6) and y_test is (2168, 6)\n"
     ]
    }
   ],
   "source": [
    "## Creating the training and testing data\n",
    "x_train,x_test,y_train,y_test,scaler = splitter(df[['Temp','Pavement']],['Pavement'],6,6,0.8)\n",
    "print(f'The shape of x_train is {x_train.shape} and x_test is {x_test.shape}')\n",
    "print(f'The shape of y_train is {y_train.shape} and y_test is {y_test.shape}')"
   ]
  },
  {
   "cell_type": "markdown",
   "metadata": {},
   "source": [
    "# Models"
   ]
  },
  {
   "cell_type": "markdown",
   "metadata": {},
   "source": [
    "## LSTM Model"
   ]
  },
  {
   "cell_type": "code",
   "execution_count": 5,
   "metadata": {},
   "outputs": [],
   "source": [
    "## Creating the prelimaries \n",
    "\n",
    "filepath_simple = 'simple_lstm.hdf5'\n",
    "filepath_attention = 'attention_lstm.hdf5'\n",
    "\n",
    "checkpoint_simple = keras.callbacks.ModelCheckpoint(filepath_simple,monitor='val_loss',save_best_only=True)\n",
    "checkpoint_attention = keras.callbacks.ModelCheckpoint(filepath_attention, monitor='val_loss',save_best_only=True)"
   ]
  },
  {
   "cell_type": "code",
   "execution_count": 21,
   "metadata": {},
   "outputs": [
    {
     "name": "stdout",
     "output_type": "stream",
     "text": [
      "Model: \"sequential\"\n",
      "_________________________________________________________________\n",
      "Layer (type)                 Output Shape              Param #   \n",
      "=================================================================\n",
      "lstm (LSTM)                  (None, 6, 64)             17152     \n",
      "_________________________________________________________________\n",
      "lstm_1 (LSTM)                (None, 6, 64)             33024     \n",
      "_________________________________________________________________\n",
      "dropout (Dropout)            (None, 6, 64)             0         \n",
      "_________________________________________________________________\n",
      "lstm_2 (LSTM)                (None, 6, 64)             33024     \n",
      "_________________________________________________________________\n",
      "lstm_3 (LSTM)                (None, 6, 64)             33024     \n",
      "_________________________________________________________________\n",
      "flatten (Flatten)            (None, 384)               0         \n",
      "_________________________________________________________________\n",
      "dense (Dense)                (None, 512)               197120    \n",
      "_________________________________________________________________\n",
      "dense_1 (Dense)              (None, 128)               65664     \n",
      "_________________________________________________________________\n",
      "dense_2 (Dense)              (None, 64)                8256      \n",
      "_________________________________________________________________\n",
      "dropout_1 (Dropout)          (None, 64)                0         \n",
      "_________________________________________________________________\n",
      "dense_3 (Dense)              (None, 32)                2080      \n",
      "_________________________________________________________________\n",
      "dense_4 (Dense)              (None, 6)                 198       \n",
      "=================================================================\n",
      "Total params: 389,542\n",
      "Trainable params: 389,542\n",
      "Non-trainable params: 0\n",
      "_________________________________________________________________\n"
     ]
    }
   ],
   "source": [
    "## Simple LSTM\n",
    "simple_lstm = build_lstm(False,x_train)\n",
    "simple_lstm.compile(loss='mse', optimizer=keras.optimizers.Adam(learning_rate=0.001), metrics=['mae'])\n",
    "simple_lstm.summary()"
   ]
  },
  {
   "cell_type": "code",
   "execution_count": 22,
   "metadata": {
    "scrolled": true
   },
   "outputs": [
    {
     "name": "stdout",
     "output_type": "stream",
     "text": [
      "Directory present\n",
      "Train on 7833 samples, validate on 871 samples\n",
      "7833/7833 [==============================] - 7s 834us/sample - loss: 0.0152 - mean_absolute_error: 0.0858 - val_loss: 0.0030 - val_mean_absolute_error: 0.0411\n"
     ]
    },
    {
     "data": {
      "image/png": "[encoded data removed]",
      "text/plain": [
       "<Figure size 432x288 with 1 Axes>"
      ]
     },
     "metadata": {
      "needs_background": "light"
     },
     "output_type": "display_data"
    },
    {
     "name": "stdout",
     "output_type": "stream",
     "text": [
      "The Mean Squared Error is: 26.304148170183833\n"
     ]
    }
   ],
   "source": [
    "## Saving the result file to the folder of the model\n",
    "model_fit('LSTM',simple_lstm,x_train,x_test,y_train,y_test,scaler,0.1,32,1,checkpoint_simple,filepath_simple,'Simple')"
   ]
  },
  {
   "cell_type": "code",
   "execution_count": 23,
   "metadata": {},
   "outputs": [
    {
     "name": "stdout",
     "output_type": "stream",
     "text": [
      "Model: \"sequential\"\n",
      "_________________________________________________________________\n",
      "Layer (type)                 Output Shape              Param #   \n",
      "=================================================================\n",
      "lstm (LSTM)                  (None, 6, 64)             17152     \n",
      "_________________________________________________________________\n",
      "lstm_1 (LSTM)                (None, 6, 64)             33024     \n",
      "_________________________________________________________________\n",
      "dropout (Dropout)            (None, 6, 64)             0         \n",
      "_________________________________________________________________\n",
      "lstm_2 (LSTM)                (None, 6, 64)             33024     \n",
      "_________________________________________________________________\n",
      "lstm_3 (LSTM)                (None, 6, 64)             33024     \n",
      "_________________________________________________________________\n",
      "attention (attention)        (None, 6, 64)             70        \n",
      "_________________________________________________________________\n",
      "flatten (Flatten)            (None, 384)               0         \n",
      "_________________________________________________________________\n",
      "dense (Dense)                (None, 512)               197120    \n",
      "_________________________________________________________________\n",
      "dense_1 (Dense)              (None, 128)               65664     \n",
      "_________________________________________________________________\n",
      "dense_2 (Dense)              (None, 64)                8256      \n",
      "_________________________________________________________________\n",
      "dropout_1 (Dropout)          (None, 64)                0         \n",
      "_________________________________________________________________\n",
      "dense_3 (Dense)              (None, 32)                2080      \n",
      "_________________________________________________________________\n",
      "dense_4 (Dense)              (None, 6)                 198       \n",
      "=================================================================\n",
      "Total params: 389,612\n",
      "Trainable params: 389,612\n",
      "Non-trainable params: 0\n",
      "_________________________________________________________________\n"
     ]
    }
   ],
   "source": [
    "## Attention model\n",
    "atten_lstm = build_lstm(True,x_train)\n",
    "atten_lstm.compile(loss='mse', optimizer=keras.optimizers.Adam(learning_rate=0.001), metrics=['mae'])\n",
    "atten_lstm.summary()"
   ]
  },
  {
   "cell_type": "code",
   "execution_count": 24,
   "metadata": {
    "scrolled": true
   },
   "outputs": [
    {
     "name": "stdout",
     "output_type": "stream",
     "text": [
      "Directory present\n",
      "Train on 7833 samples, validate on 871 samples\n",
      "7833/7833 [==============================] - 9s 1ms/sample - loss: 0.0166 - mean_absolute_error: 0.0916 - val_loss: 0.0025 - val_mean_absolute_error: 0.0396\n"
     ]
    },
    {
     "data": {
      "image/png": "[encoded data removed]",
      "text/plain": [
       "<Figure size 432x288 with 1 Axes>"
      ]
     },
     "metadata": {
      "needs_background": "light"
     },
     "output_type": "display_data"
    },
    {
     "name": "stdout",
     "output_type": "stream",
     "text": [
      "The Mean Squared Error is: 31.42140172431187\n"
     ]
    }
   ],
   "source": [
    "## Saving the result file to the folder of the model\n",
    "\n",
    "model_fit('LSTM',atten_lstm,x_train,x_test,y_train,y_test,scaler,0.1,32,1,\n",
    "          checkpoint_attention,filepath_attention,'Attention')"
   ]
  },
  {
   "cell_type": "markdown",
   "metadata": {},
   "source": [
    "## CNN-LSTM"
   ]
  },
  {
   "cell_type": "code",
   "execution_count": 27,
   "metadata": {},
   "outputs": [],
   "source": [
    "## Creating the prelimaries \n",
    "\n",
    "filepath_simple = 'simple_cnnlstm.hdf5'\n",
    "filepath_attention = 'attention_cnnlstm.hdf5'\n",
    "\n",
    "checkpoint_simple = keras.callbacks.ModelCheckpoint(filepath_simple,monitor='val_loss',save_best_only=True)\n",
    "checkpoint_attention = keras.callbacks.ModelCheckpoint(filepath_attention, monitor='val_loss',save_best_only=True)"
   ]
  },
  {
   "cell_type": "code",
   "execution_count": 28,
   "metadata": {},
   "outputs": [],
   "source": [
    "## Simple CNN-LSTM model\n",
    "simple_cnnlstm = build_cnnlstm(False,x_train)\n",
    "simple_cnnlstm.compile(loss='mse', optimizer=keras.optimizers.Adam(learning_rate=0.0001), metrics=['mae'])"
   ]
  },
  {
   "cell_type": "code",
   "execution_count": 29,
   "metadata": {
    "scrolled": true
   },
   "outputs": [
    {
     "name": "stdout",
     "output_type": "stream",
     "text": [
      "Creating a new directory......\n",
      "New Directory Created\n",
      "Train on 7833 samples, validate on 871 samples\n",
      "7833/7833 [==============================] - 3s 433us/sample - loss: 0.0330 - mean_absolute_error: 0.1229 - val_loss: 0.0032 - val_mean_absolute_error: 0.0472\n"
     ]
    },
    {
     "data": {
      "image/png": "[encoded data removed]",
      "text/plain": [
       "<Figure size 432x288 with 1 Axes>"
      ]
     },
     "metadata": {
      "needs_background": "light"
     },
     "output_type": "display_data"
    },
    {
     "name": "stdout",
     "output_type": "stream",
     "text": [
      "The Mean Squared Error is: 33.04004489915204\n"
     ]
    }
   ],
   "source": [
    "## Saving the result file to the folder of the model\n",
    "model_fit('CNN-LSTM',simple_cnnlstm,x_train,x_test,y_train,y_test,scaler,0.1,32,1,\n",
    "          checkpoint_simple,filepath_simple,'Simple')"
   ]
  },
  {
   "cell_type": "code",
   "execution_count": 30,
   "metadata": {},
   "outputs": [],
   "source": [
    "## Attention model\n",
    "atten_cnnlstm = build_cnnlstm(True,x_train)\n",
    "atten_cnnlstm.compile(loss='mse', optimizer=keras.optimizers.Adam(learning_rate=0.0001), metrics=['mae'])"
   ]
  },
  {
   "cell_type": "code",
   "execution_count": 31,
   "metadata": {
    "scrolled": true
   },
   "outputs": [
    {
     "name": "stdout",
     "output_type": "stream",
     "text": [
      "Directory present\n",
      "Train on 7833 samples, validate on 871 samples\n",
      "7833/7833 [==============================] - 3s 426us/sample - loss: 0.0386 - mean_absolute_error: 0.1348 - val_loss: 0.0033 - val_mean_absolute_error: 0.0476\n"
     ]
    },
    {
     "data": {
      "image/png": "[encoded data removed]",
      "text/plain": [
       "<Figure size 432x288 with 1 Axes>"
      ]
     },
     "metadata": {
      "needs_background": "light"
     },
     "output_type": "display_data"
    },
    {
     "name": "stdout",
     "output_type": "stream",
     "text": [
      "The Mean Squared Error is: 35.71867142819182\n"
     ]
    }
   ],
   "source": [
    "## Saving the result file to the folder of the model\n",
    "model_fit('CNN-LSTM',atten_cnnlstm,x_train,x_test,y_train,y_test,scaler,0.1,32,1,\n",
    "          checkpoint_attention,filepath_attention,'Attention')"
   ]
  },
  {
   "cell_type": "markdown",
   "metadata": {},
   "source": [
    "## ConvLSTM Model"
   ]
  },
  {
   "cell_type": "code",
   "execution_count": 33,
   "metadata": {},
   "outputs": [],
   "source": [
    "## Creating the prelimaries \n",
    "\n",
    "filepath_simple = 'simple_convlstm.hdf5'\n",
    "filepath_attention = 'attention_convlstm.hdf5'\n",
    "\n",
    "checkpoint_simple = keras.callbacks.ModelCheckpoint(filepath_simple,monitor='val_loss',save_best_only=True)\n",
    "checkpoint_attention = keras.callbacks.ModelCheckpoint(filepath_attention, monitor='val_loss',save_best_only=True)"
   ]
  },
  {
   "cell_type": "code",
   "execution_count": 39,
   "metadata": {},
   "outputs": [],
   "source": [
    "## Reshaping the training and testing data to suit the convlstm model\n",
    "x_train_conv =x_train.reshape(x_train.shape[0], 1, 1, x_train.shape[1], x_train.shape[2])\n",
    "x_test_conv = x_test.reshape(x_test.shape[0], 1, 1, x_test.shape[1], x_test.shape[2])"
   ]
  },
  {
   "cell_type": "code",
   "execution_count": 40,
   "metadata": {},
   "outputs": [
    {
     "name": "stdout",
     "output_type": "stream",
     "text": [
      "Model: \"sequential\"\n",
      "_________________________________________________________________\n",
      "Layer (type)                 Output Shape              Param #   \n",
      "=================================================================\n",
      "conv_lst_m2d (ConvLSTM2D)    (None, 1, 1, 5, 64)       34048     \n",
      "_________________________________________________________________\n",
      "conv_lst_m2d_1 (ConvLSTM2D)  (None, 1, 1, 4, 64)       65792     \n",
      "_________________________________________________________________\n",
      "conv_lst_m2d_2 (ConvLSTM2D)  (None, 1, 1, 3, 64)       65792     \n",
      "_________________________________________________________________\n",
      "conv_lst_m2d_3 (ConvLSTM2D)  (None, 1, 1, 2, 64)       65792     \n",
      "_________________________________________________________________\n",
      "flatten (Flatten)            (None, 128)               0         \n",
      "_________________________________________________________________\n",
      "dense (Dense)                (None, 512)               66048     \n",
      "_________________________________________________________________\n",
      "dense_1 (Dense)              (None, 128)               65664     \n",
      "_________________________________________________________________\n",
      "dense_2 (Dense)              (None, 64)                8256      \n",
      "_________________________________________________________________\n",
      "dense_3 (Dense)              (None, 32)                2080      \n",
      "_________________________________________________________________\n",
      "dense_4 (Dense)              (None, 6)                 198       \n",
      "=================================================================\n",
      "Total params: 373,670\n",
      "Trainable params: 373,670\n",
      "Non-trainable params: 0\n",
      "_________________________________________________________________\n"
     ]
    }
   ],
   "source": [
    "## Simple ConvLSTM model\n",
    "simple_convlstm = build_convlstm(False,x_train_conv)\n",
    "simple_convlstm.compile(loss='mse', optimizer=keras.optimizers.Adam(learning_rate=0.0001), metrics=['mae'])\n",
    "simple_convlstm.summary()"
   ]
  },
  {
   "cell_type": "code",
   "execution_count": 41,
   "metadata": {
    "scrolled": true
   },
   "outputs": [
    {
     "name": "stdout",
     "output_type": "stream",
     "text": [
      "Directory present\n",
      "Train on 7833 samples, validate on 871 samples\n",
      "7833/7833 [==============================] - 6s 748us/sample - loss: 0.0474 - mean_absolute_error: 0.1618 - val_loss: 0.0078 - val_mean_absolute_error: 0.0709\n"
     ]
    },
    {
     "data": {
      "image/png": "[encoded data removed]",
      "text/plain": [
       "<Figure size 432x288 with 1 Axes>"
      ]
     },
     "metadata": {
      "needs_background": "light"
     },
     "output_type": "display_data"
    },
    {
     "name": "stdout",
     "output_type": "stream",
     "text": [
      "The Mean Squared Error is: 58.70609067873381\n"
     ]
    }
   ],
   "source": [
    "## Saving the result file to the folder of the model\n",
    "model_fit('ConvLSTM',simple_convlstm,x_train_conv,x_test_conv,y_train,y_test,scaler,0.1,32,1,\n",
    "          checkpoint_simple,filepath_simple,'Simple')"
   ]
  },
  {
   "cell_type": "code",
   "execution_count": 42,
   "metadata": {},
   "outputs": [
    {
     "name": "stdout",
     "output_type": "stream",
     "text": [
      "Model: \"sequential\"\n",
      "_________________________________________________________________\n",
      "Layer (type)                 Output Shape              Param #   \n",
      "=================================================================\n",
      "conv_lst_m2d (ConvLSTM2D)    (None, 1, 1, 5, 64)       34048     \n",
      "_________________________________________________________________\n",
      "conv_lst_m2d_1 (ConvLSTM2D)  (None, 1, 1, 4, 64)       65792     \n",
      "_________________________________________________________________\n",
      "conv_lst_m2d_2 (ConvLSTM2D)  (None, 1, 1, 3, 64)       65792     \n",
      "_________________________________________________________________\n",
      "conv_lst_m2d_3 (ConvLSTM2D)  (None, 1, 1, 2, 64)       65792     \n",
      "_________________________________________________________________\n",
      "attention (attention)        (None, 1, 1, 2, 64)       65        \n",
      "_________________________________________________________________\n",
      "flatten (Flatten)            (None, 128)               0         \n",
      "_________________________________________________________________\n",
      "dense (Dense)                (None, 512)               66048     \n",
      "_________________________________________________________________\n",
      "dense_1 (Dense)              (None, 128)               65664     \n",
      "_________________________________________________________________\n",
      "dense_2 (Dense)              (None, 64)                8256      \n",
      "_________________________________________________________________\n",
      "dense_3 (Dense)              (None, 32)                2080      \n",
      "_________________________________________________________________\n",
      "dense_4 (Dense)              (None, 6)                 198       \n",
      "=================================================================\n",
      "Total params: 373,735\n",
      "Trainable params: 373,735\n",
      "Non-trainable params: 0\n",
      "_________________________________________________________________\n"
     ]
    }
   ],
   "source": [
    "## Attention model\n",
    "atten_convlstm = build_convlstm(True,x_train_conv)\n",
    "atten_convlstm.compile(loss='mse', optimizer=keras.optimizers.Adam(learning_rate=0.0001), metrics=['mae'])\n",
    "atten_convlstm.summary()"
   ]
  },
  {
   "cell_type": "code",
   "execution_count": 43,
   "metadata": {
    "scrolled": true
   },
   "outputs": [
    {
     "name": "stdout",
     "output_type": "stream",
     "text": [
      "Directory present\n",
      "Train on 7833 samples, validate on 871 samples\n",
      "7833/7833 [==============================] - 6s 724us/sample - loss: 0.0555 - mean_absolute_error: 0.1789 - val_loss: 0.0078 - val_mean_absolute_error: 0.0699\n"
     ]
    },
    {
     "data": {
      "image/png": "[encoded data removed]",
      "text/plain": [
       "<Figure size 432x288 with 1 Axes>"
      ]
     },
     "metadata": {
      "needs_background": "light"
     },
     "output_type": "display_data"
    },
    {
     "name": "stdout",
     "output_type": "stream",
     "text": [
      "The Mean Squared Error is: 57.72982977044567\n"
     ]
    }
   ],
   "source": [
    "## Saving the result file to the folder of the model\n",
    "model_fit('ConvLSTM',atten_convlstm,x_train_conv,x_test_conv,y_train,y_test,scaler,0.1,32,1,\n",
    "          checkpoint_attention,filepath_attention,'Attention')"
   ]
  },
  {
   "cell_type": "markdown",
   "metadata": {},
   "source": [
    "## Seq2Seq Model"
   ]
  },
  {
   "cell_type": "code",
   "execution_count": 44,
   "metadata": {},
   "outputs": [],
   "source": [
    "## Creating the prelimaries \n",
    "\n",
    "filepath_simple = 'simple_seq2seq.hdf5'\n",
    "filepath_attention = 'attention_seq2seq.hdf5'\n",
    "\n",
    "checkpoint_simple = keras.callbacks.ModelCheckpoint(filepath_simple,monitor='val_loss',save_best_only=True)\n",
    "checkpoint_attention = keras.callbacks.ModelCheckpoint(filepath_attention, monitor='val_loss',save_best_only=True)"
   ]
  },
  {
   "cell_type": "code",
   "execution_count": 52,
   "metadata": {},
   "outputs": [],
   "source": [
    "## Reshaping the training data to suit Seq2Seq model\n",
    "y_train_seq = y_train.reshape(y_train.shape[0], y_train.shape[1], 1)\n",
    "\n",
    "## Combining the shapes of input and output\n",
    "\n",
    "comb_shapes = [x_train.shape[0],x_train.shape[1],x_train.shape[2],y_train_seq.shape[0],y_train_seq.shape[1],y_train_seq.shape[2]]"
   ]
  },
  {
   "cell_type": "code",
   "execution_count": 65,
   "metadata": {},
   "outputs": [
    {
     "name": "stdout",
     "output_type": "stream",
     "text": [
      "Model: \"model\"\n",
      "__________________________________________________________________________________________________\n",
      "Layer (type)                    Output Shape         Param #     Connected to                     \n",
      "==================================================================================================\n",
      "input_1 (InputLayer)            [(None, 6, 2)]       0                                            \n",
      "__________________________________________________________________________________________________\n",
      "lstm (LSTM)                     (None, 6, 128)       67072       input_1[0][0]                    \n",
      "__________________________________________________________________________________________________\n",
      "lstm_1 (LSTM)                   (None, 6, 128)       131584      lstm[0][0]                       \n",
      "__________________________________________________________________________________________________\n",
      "lstm_2 (LSTM)                   (None, 6, 128)       131584      lstm_1[0][0]                     \n",
      "__________________________________________________________________________________________________\n",
      "lstm_3 (LSTM)                   [(None, 128), (None, 131584      lstm_2[0][0]                     \n",
      "__________________________________________________________________________________________________\n",
      "repeat_vector (RepeatVector)    (None, 6, 128)       0           lstm_3[0][0]                     \n",
      "__________________________________________________________________________________________________\n",
      "lstm_4 (LSTM)                   (None, 6, 128)       131584      repeat_vector[0][0]              \n",
      "                                                                 lstm_3[0][0]                     \n",
      "                                                                 lstm_3[0][2]                     \n",
      "__________________________________________________________________________________________________\n",
      "lstm_5 (LSTM)                   (None, 6, 128)       131584      lstm_4[0][0]                     \n",
      "__________________________________________________________________________________________________\n",
      "lstm_6 (LSTM)                   (None, 6, 128)       131584      lstm_5[0][0]                     \n",
      "__________________________________________________________________________________________________\n",
      "lstm_7 (LSTM)                   (None, 6, 128)       131584      lstm_6[0][0]                     \n",
      "__________________________________________________________________________________________________\n",
      "time_distributed (TimeDistribut (None, 6, 1)         129         lstm_7[0][0]                     \n",
      "==================================================================================================\n",
      "Total params: 988,289\n",
      "Trainable params: 988,289\n",
      "Non-trainable params: 0\n",
      "__________________________________________________________________________________________________\n"
     ]
    }
   ],
   "source": [
    "## Simple Model\n",
    "\n",
    "simple_seq = build_seq2seq(False,comb_shapes)\n",
    "opt = keras.optimizers.Adam(learning_rate=0.001)\n",
    "simple_seq.compile(loss='mse', optimizer=opt, metrics=['mae'])\n",
    "simple_seq.summary()"
   ]
  },
  {
   "cell_type": "code",
   "execution_count": 66,
   "metadata": {
    "scrolled": true
   },
   "outputs": [
    {
     "name": "stdout",
     "output_type": "stream",
     "text": [
      "Directory present\n",
      "Train on 7833 samples, validate on 871 samples\n",
      "7833/7833 [==============================] - 15s 2ms/sample - loss: 0.0166 - mean_absolute_error: 0.0882 - val_loss: 0.0025 - val_mean_absolute_error: 0.0390\n"
     ]
    },
    {
     "data": {
      "image/png": "[encoded data removed]",
      "text/plain": [
       "<Figure size 432x288 with 1 Axes>"
      ]
     },
     "metadata": {
      "needs_background": "light"
     },
     "output_type": "display_data"
    },
    {
     "name": "stdout",
     "output_type": "stream",
     "text": [
      "(2168, 6)\n",
      "(2168, 6)\n",
      "(2168, 6)\n",
      "The Mean Squared Error is: 18.875276934323338\n"
     ]
    }
   ],
   "source": [
    "## Saving the result file to the folder of the model\n",
    "model_fit('Seq2Seq',simple_seq,x_train,x_test,y_train_seq,y_test,scaler,0.1,32,1,\n",
    "          checkpoint_simple,filepath_simple,'Simple')"
   ]
  },
  {
   "cell_type": "code",
   "execution_count": 68,
   "metadata": {},
   "outputs": [
    {
     "name": "stdout",
     "output_type": "stream",
     "text": [
      "Model: \"model\"\n",
      "__________________________________________________________________________________________________\n",
      "Layer (type)                    Output Shape         Param #     Connected to                     \n",
      "==================================================================================================\n",
      "input_1 (InputLayer)            [(None, 6, 2)]       0                                            \n",
      "__________________________________________________________________________________________________\n",
      "lstm (LSTM)                     (None, 6, 128)       67072       input_1[0][0]                    \n",
      "__________________________________________________________________________________________________\n",
      "lstm_1 (LSTM)                   (None, 6, 128)       131584      lstm[0][0]                       \n",
      "__________________________________________________________________________________________________\n",
      "lstm_2 (LSTM)                   (None, 6, 128)       131584      lstm_1[0][0]                     \n",
      "__________________________________________________________________________________________________\n",
      "lstm_3 (LSTM)                   [(None, 6, 128), (No 131584      lstm_2[0][0]                     \n",
      "__________________________________________________________________________________________________\n",
      "repeat_vector (RepeatVector)    (None, 6, 128)       0           lstm_3[0][1]                     \n",
      "__________________________________________________________________________________________________\n",
      "lstm_4 (LSTM)                   (None, 6, 128)       131584      repeat_vector[0][0]              \n",
      "                                                                 lstm_3[0][1]                     \n",
      "                                                                 lstm_3[0][2]                     \n",
      "__________________________________________________________________________________________________\n",
      "dot (Dot)                       (None, 6, 6)         0           lstm_4[0][0]                     \n",
      "                                                                 lstm_3[0][0]                     \n",
      "__________________________________________________________________________________________________\n",
      "activation (Activation)         (None, 6, 6)         0           dot[0][0]                        \n",
      "__________________________________________________________________________________________________\n",
      "dot_1 (Dot)                     (None, 6, 128)       0           activation[0][0]                 \n",
      "                                                                 lstm_3[0][0]                     \n",
      "__________________________________________________________________________________________________\n",
      "concatenate (Concatenate)       (None, 6, 256)       0           dot_1[0][0]                      \n",
      "                                                                 lstm_4[0][0]                     \n",
      "__________________________________________________________________________________________________\n",
      "lstm_5 (LSTM)                   (None, 6, 128)       197120      concatenate[0][0]                \n",
      "__________________________________________________________________________________________________\n",
      "lstm_6 (LSTM)                   (None, 6, 128)       131584      lstm_5[0][0]                     \n",
      "__________________________________________________________________________________________________\n",
      "lstm_7 (LSTM)                   (None, 6, 128)       131584      lstm_6[0][0]                     \n",
      "__________________________________________________________________________________________________\n",
      "time_distributed (TimeDistribut (None, 6, 1)         129         lstm_7[0][0]                     \n",
      "==================================================================================================\n",
      "Total params: 1,053,825\n",
      "Trainable params: 1,053,825\n",
      "Non-trainable params: 0\n",
      "__________________________________________________________________________________________________\n"
     ]
    }
   ],
   "source": [
    "## Attention Model\n",
    "atten_seq = build_seq2seq(True,comb_shapes)\n",
    "opt = keras.optimizers.Adam(learning_rate=0.0001)\n",
    "atten_seq.compile(loss='mse', optimizer=opt, metrics=['mae'])\n",
    "atten_seq.summary()"
   ]
  },
  {
   "cell_type": "code",
   "execution_count": 69,
   "metadata": {},
   "outputs": [
    {
     "name": "stdout",
     "output_type": "stream",
     "text": [
      "Directory present\n",
      "Train on 7833 samples, validate on 871 samples\n",
      "7833/7833 [==============================] - 18s 2ms/sample - loss: 0.0476 - mean_absolute_error: 0.1687 - val_loss: 0.0051 - val_mean_absolute_error: 0.0599\n"
     ]
    },
    {
     "data": {
      "image/png": "[encoded data removed]",
      "text/plain": [
       "<Figure size 432x288 with 1 Axes>"
      ]
     },
     "metadata": {
      "needs_background": "light"
     },
     "output_type": "display_data"
    },
    {
     "name": "stdout",
     "output_type": "stream",
     "text": [
      "(2168, 6)\n",
      "(2168, 6)\n",
      "(2168, 6)\n",
      "The Mean Squared Error is: 36.542214913387596\n"
     ]
    }
   ],
   "source": [
    "## Saving the result file to the folder of the model\n",
    "model_fit('Seq2Seq',atten_seq,x_train,x_test,y_train_seq,y_test,scaler,0.1,32,1,\n",
    "          checkpoint_attention,filepath_attention,'Attention')"
   ]
  },
  {
   "cell_type": "markdown",
   "metadata": {},
   "source": [
    "## Wavenet Model"
   ]
  },
  {
   "cell_type": "code",
   "execution_count": 73,
   "metadata": {},
   "outputs": [],
   "source": [
    "## Creating the prelimaries \n",
    "\n",
    "filepath_simple = 'simple_wavenet.hdf5'\n",
    "filepath_attention = 'attention_wavenet.hdf5'\n",
    "\n",
    "checkpoint_simple = keras.callbacks.ModelCheckpoint(filepath_simple,monitor='val_loss',save_best_only=True)\n",
    "checkpoint_attention = keras.callbacks.ModelCheckpoint(filepath_attention, monitor='val_loss',save_best_only=True)"
   ]
  },
  {
   "cell_type": "code",
   "execution_count": 74,
   "metadata": {},
   "outputs": [],
   "source": [
    "simple_wavenet = build_wavenet(False,x_train)\n",
    "simple_wavenet.compile(loss='mse', optimizer=keras.optimizers.Adam(learning_rate=0.001), metrics=['mae'])"
   ]
  },
  {
   "cell_type": "code",
   "execution_count": 75,
   "metadata": {
    "scrolled": true
   },
   "outputs": [
    {
     "name": "stdout",
     "output_type": "stream",
     "text": [
      "Creating a new directory......\n",
      "New Directory Created\n",
      "Train on 7833 samples, validate on 871 samples\n",
      "7833/7833 [==============================] - 15s 2ms/sample - loss: 0.0199 - mean_absolute_error: 0.0979 - val_loss: 0.0018 - val_mean_absolute_error: 0.0330\n"
     ]
    },
    {
     "data": {
      "image/png": "[encoded data removed]",
      "text/plain": [
       "<Figure size 432x288 with 1 Axes>"
      ]
     },
     "metadata": {
      "needs_background": "light"
     },
     "output_type": "display_data"
    },
    {
     "name": "stdout",
     "output_type": "stream",
     "text": [
      "(2168, 6)\n",
      "(2168, 6)\n",
      "(2168, 6)\n",
      "The Mean Squared Error is: 26.064189105670298\n"
     ]
    }
   ],
   "source": [
    "## Saving the result file to the folder of the model\n",
    "model_fit('Wavenet',simple_wavenet,x_train,x_test,y_train,y_test,scaler,0.1,32,1,\n",
    "          checkpoint_simple,filepath_simple,'Simple')"
   ]
  },
  {
   "cell_type": "code",
   "execution_count": 78,
   "metadata": {},
   "outputs": [
    {
     "name": "stdout",
     "output_type": "stream",
     "text": [
      "Model: \"model_2\"\n",
      "__________________________________________________________________________________________________\n",
      "Layer (type)                    Output Shape         Param #     Connected to                     \n",
      "==================================================================================================\n",
      "input_5 (InputLayer)            [(None, 6, 2)]       0                                            \n",
      "__________________________________________________________________________________________________\n",
      "conv1d_59 (Conv1D)              (None, 6, 64)        192         input_5[0][0]                    \n",
      "__________________________________________________________________________________________________\n",
      "conv1d_60 (Conv1D)              (None, 6, 128)       16512       conv1d_59[0][0]                  \n",
      "__________________________________________________________________________________________________\n",
      "conv1d_61 (Conv1D)              (None, 6, 128)       16512       conv1d_59[0][0]                  \n",
      "__________________________________________________________________________________________________\n",
      "activation_32 (Activation)      (None, 6, 128)       0           conv1d_60[0][0]                  \n",
      "__________________________________________________________________________________________________\n",
      "activation_33 (Activation)      (None, 6, 128)       0           conv1d_61[0][0]                  \n",
      "__________________________________________________________________________________________________\n",
      "multiply_14 (Multiply)          (None, 6, 128)       0           activation_32[0][0]              \n",
      "                                                                 activation_33[0][0]              \n",
      "__________________________________________________________________________________________________\n",
      "conv1d_62 (Conv1D)              (None, 6, 64)        8256        multiply_14[0][0]                \n",
      "__________________________________________________________________________________________________\n",
      "add_16 (Add)                    (None, 6, 64)        0           conv1d_59[0][0]                  \n",
      "                                                                 conv1d_62[0][0]                  \n",
      "__________________________________________________________________________________________________\n",
      "conv1d_63 (Conv1D)              (None, 6, 64)        4160        add_16[0][0]                     \n",
      "__________________________________________________________________________________________________\n",
      "conv1d_64 (Conv1D)              (None, 6, 128)       16512       conv1d_63[0][0]                  \n",
      "__________________________________________________________________________________________________\n",
      "conv1d_65 (Conv1D)              (None, 6, 128)       16512       conv1d_63[0][0]                  \n",
      "__________________________________________________________________________________________________\n",
      "activation_34 (Activation)      (None, 6, 128)       0           conv1d_64[0][0]                  \n",
      "__________________________________________________________________________________________________\n",
      "activation_35 (Activation)      (None, 6, 128)       0           conv1d_65[0][0]                  \n",
      "__________________________________________________________________________________________________\n",
      "multiply_15 (Multiply)          (None, 6, 128)       0           activation_34[0][0]              \n",
      "                                                                 activation_35[0][0]              \n",
      "__________________________________________________________________________________________________\n",
      "conv1d_66 (Conv1D)              (None, 6, 64)        8256        multiply_15[0][0]                \n",
      "__________________________________________________________________________________________________\n",
      "add_17 (Add)                    (None, 6, 64)        0           conv1d_63[0][0]                  \n",
      "                                                                 conv1d_66[0][0]                  \n",
      "__________________________________________________________________________________________________\n",
      "conv1d_67 (Conv1D)              (None, 6, 64)        4160        add_17[0][0]                     \n",
      "__________________________________________________________________________________________________\n",
      "conv1d_68 (Conv1D)              (None, 6, 128)       16512       conv1d_67[0][0]                  \n",
      "__________________________________________________________________________________________________\n",
      "conv1d_69 (Conv1D)              (None, 6, 128)       16512       conv1d_67[0][0]                  \n",
      "__________________________________________________________________________________________________\n",
      "activation_36 (Activation)      (None, 6, 128)       0           conv1d_68[0][0]                  \n",
      "__________________________________________________________________________________________________\n",
      "activation_37 (Activation)      (None, 6, 128)       0           conv1d_69[0][0]                  \n",
      "__________________________________________________________________________________________________\n",
      "multiply_16 (Multiply)          (None, 6, 128)       0           activation_36[0][0]              \n",
      "                                                                 activation_37[0][0]              \n",
      "__________________________________________________________________________________________________\n",
      "conv1d_70 (Conv1D)              (None, 6, 64)        8256        multiply_16[0][0]                \n",
      "__________________________________________________________________________________________________\n",
      "add_18 (Add)                    (None, 6, 64)        0           conv1d_67[0][0]                  \n",
      "                                                                 conv1d_70[0][0]                  \n",
      "__________________________________________________________________________________________________\n",
      "conv1d_71 (Conv1D)              (None, 6, 64)        4160        add_18[0][0]                     \n",
      "__________________________________________________________________________________________________\n",
      "conv1d_72 (Conv1D)              (None, 6, 128)       16512       conv1d_71[0][0]                  \n",
      "__________________________________________________________________________________________________\n",
      "conv1d_73 (Conv1D)              (None, 6, 128)       16512       conv1d_71[0][0]                  \n",
      "__________________________________________________________________________________________________\n",
      "activation_38 (Activation)      (None, 6, 128)       0           conv1d_72[0][0]                  \n",
      "__________________________________________________________________________________________________\n",
      "activation_39 (Activation)      (None, 6, 128)       0           conv1d_73[0][0]                  \n",
      "__________________________________________________________________________________________________\n",
      "multiply_17 (Multiply)          (None, 6, 128)       0           activation_38[0][0]              \n",
      "                                                                 activation_39[0][0]              \n",
      "__________________________________________________________________________________________________\n",
      "conv1d_74 (Conv1D)              (None, 6, 64)        8256        multiply_17[0][0]                \n",
      "__________________________________________________________________________________________________\n",
      "add_19 (Add)                    (None, 6, 64)        0           conv1d_71[0][0]                  \n",
      "                                                                 conv1d_74[0][0]                  \n",
      "__________________________________________________________________________________________________\n",
      "conv1d_75 (Conv1D)              (None, 6, 64)        4160        add_19[0][0]                     \n",
      "__________________________________________________________________________________________________\n",
      "conv1d_76 (Conv1D)              (None, 6, 128)       16512       conv1d_75[0][0]                  \n",
      "__________________________________________________________________________________________________\n",
      "conv1d_77 (Conv1D)              (None, 6, 128)       16512       conv1d_75[0][0]                  \n",
      "__________________________________________________________________________________________________\n",
      "activation_40 (Activation)      (None, 6, 128)       0           conv1d_76[0][0]                  \n",
      "__________________________________________________________________________________________________\n",
      "activation_41 (Activation)      (None, 6, 128)       0           conv1d_77[0][0]                  \n",
      "__________________________________________________________________________________________________\n",
      "multiply_18 (Multiply)          (None, 6, 128)       0           activation_40[0][0]              \n",
      "                                                                 activation_41[0][0]              \n",
      "__________________________________________________________________________________________________\n",
      "conv1d_78 (Conv1D)              (None, 6, 64)        8256        multiply_18[0][0]                \n",
      "__________________________________________________________________________________________________\n",
      "add_20 (Add)                    (None, 6, 64)        0           conv1d_75[0][0]                  \n",
      "                                                                 conv1d_78[0][0]                  \n",
      "__________________________________________________________________________________________________\n",
      "conv1d_79 (Conv1D)              (None, 6, 64)        4160        add_20[0][0]                     \n",
      "__________________________________________________________________________________________________\n",
      "conv1d_80 (Conv1D)              (None, 6, 128)       16512       conv1d_79[0][0]                  \n",
      "__________________________________________________________________________________________________\n",
      "conv1d_81 (Conv1D)              (None, 6, 128)       16512       conv1d_79[0][0]                  \n",
      "__________________________________________________________________________________________________\n",
      "activation_42 (Activation)      (None, 6, 128)       0           conv1d_80[0][0]                  \n",
      "__________________________________________________________________________________________________\n",
      "activation_43 (Activation)      (None, 6, 128)       0           conv1d_81[0][0]                  \n",
      "__________________________________________________________________________________________________\n",
      "multiply_19 (Multiply)          (None, 6, 128)       0           activation_42[0][0]              \n",
      "                                                                 activation_43[0][0]              \n",
      "__________________________________________________________________________________________________\n",
      "conv1d_82 (Conv1D)              (None, 6, 64)        8256        multiply_19[0][0]                \n",
      "__________________________________________________________________________________________________\n",
      "add_21 (Add)                    (None, 6, 64)        0           conv1d_79[0][0]                  \n",
      "                                                                 conv1d_82[0][0]                  \n",
      "__________________________________________________________________________________________________\n",
      "conv1d_83 (Conv1D)              (None, 6, 64)        4160        add_21[0][0]                     \n",
      "__________________________________________________________________________________________________\n",
      "conv1d_84 (Conv1D)              (None, 6, 128)       16512       conv1d_83[0][0]                  \n",
      "__________________________________________________________________________________________________\n",
      "conv1d_85 (Conv1D)              (None, 6, 128)       16512       conv1d_83[0][0]                  \n",
      "__________________________________________________________________________________________________\n",
      "activation_44 (Activation)      (None, 6, 128)       0           conv1d_84[0][0]                  \n",
      "__________________________________________________________________________________________________\n",
      "activation_45 (Activation)      (None, 6, 128)       0           conv1d_85[0][0]                  \n",
      "__________________________________________________________________________________________________\n",
      "multiply_20 (Multiply)          (None, 6, 128)       0           activation_44[0][0]              \n",
      "                                                                 activation_45[0][0]              \n",
      "__________________________________________________________________________________________________\n",
      "conv1d_86 (Conv1D)              (None, 6, 64)        8256        multiply_20[0][0]                \n",
      "__________________________________________________________________________________________________\n",
      "add_23 (Add)                    (None, 6, 64)        0           conv1d_62[0][0]                  \n",
      "                                                                 conv1d_66[0][0]                  \n",
      "                                                                 conv1d_70[0][0]                  \n",
      "                                                                 conv1d_74[0][0]                  \n",
      "                                                                 conv1d_78[0][0]                  \n",
      "                                                                 conv1d_82[0][0]                  \n",
      "                                                                 conv1d_86[0][0]                  \n",
      "__________________________________________________________________________________________________\n",
      "activation_46 (Activation)      (None, 6, 64)        0           add_23[0][0]                     \n",
      "__________________________________________________________________________________________________\n",
      "attention_1 (attention)         (None, 6, 64)        70          activation_46[0][0]              \n",
      "__________________________________________________________________________________________________\n",
      "conv1d_87 (Conv1D)              (None, 6, 128)       8320        attention_1[0][0]                \n",
      "__________________________________________________________________________________________________\n",
      "activation_47 (Activation)      (None, 6, 128)       0           conv1d_87[0][0]                  \n",
      "__________________________________________________________________________________________________\n",
      "dropout_1 (Dropout)             (None, 6, 128)       0           activation_47[0][0]              \n",
      "__________________________________________________________________________________________________\n",
      "conv1d_88 (Conv1D)              (None, 6, 1)         129         dropout_1[0][0]                  \n",
      "__________________________________________________________________________________________________\n",
      "flatten_1 (Flatten)             (None, 6)            0           conv1d_88[0][0]                  \n",
      "__________________________________________________________________________________________________\n",
      "dense_2 (Dense)                 (None, 6)            42          flatten_1[0][0]                  \n",
      "==================================================================================================\n",
      "Total params: 322,673\n",
      "Trainable params: 322,673\n",
      "Non-trainable params: 0\n",
      "__________________________________________________________________________________________________\n"
     ]
    }
   ],
   "source": [
    "## Attention model\n",
    "atten_wavenet = build_wavenet(True,x_train)\n",
    "atten_wavenet.compile(loss='mse', optimizer=keras.optimizers.Adam(learning_rate=0.001), metrics=['mae'])\n",
    "atten_wavenet.summary()"
   ]
  },
  {
   "cell_type": "code",
   "execution_count": 79,
   "metadata": {},
   "outputs": [
    {
     "name": "stdout",
     "output_type": "stream",
     "text": [
      "Directory present\n",
      "Train on 7833 samples, validate on 871 samples\n",
      "7833/7833 [==============================] - 17s 2ms/sample - loss: 0.0185 - mean_absolute_error: 0.0936 - val_loss: 0.0026 - val_mean_absolute_error: 0.0412\n"
     ]
    },
    {
     "data": {
      "image/png": "[encoded data removed]",
      "text/plain": [
       "<Figure size 432x288 with 1 Axes>"
      ]
     },
     "metadata": {
      "needs_background": "light"
     },
     "output_type": "display_data"
    },
    {
     "name": "stdout",
     "output_type": "stream",
     "text": [
      "(2168, 6)\n",
      "(2168, 6)\n",
      "(2168, 6)\n",
      "The Mean Squared Error is: 28.263661273452517\n"
     ]
    }
   ],
   "source": [
    "## Saving the result file to the folder of the model\n",
    "model_fit('Wavenet',atten_wavenet,x_train,x_test,y_train,y_test,scaler,0.1,32,1,\n",
    "          checkpoint_attention,filepath_attention,'Attention')"
   ]
  },
  {
   "cell_type": "code",
   "execution_count": null,
   "metadata": {},
   "outputs": [],
   "source": []
  },
  {
   "cell_type": "code",
   "execution_count": null,
   "metadata": {},
   "outputs": [],
   "source": []
  }
 ],
 "metadata": {
  "kernelspec": {
   "display_name": "Python 3",
   "language": "python",
   "name": "python3"
  },
  "language_info": {
   "codemirror_mode": {
    "name": "ipython",
    "version": 3
   },
   "file_extension": ".py",
   "mimetype": "text/x-python",
   "name": "python",
   "nbconvert_exporter": "python",
   "pygments_lexer": "ipython3",
   "version": "3.7.4"
  }
 },
 "nbformat": 4,
 "nbformat_minor": 4
}
